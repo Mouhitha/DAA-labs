{
 "cells": [
  {
   "cell_type": "code",
   "execution_count": 11,
   "metadata": {},
   "outputs": [
    {
     "name": "stdout",
     "output_type": "stream",
     "text": [
      "randommly generated array [34, 59, 80, 97, 56, 15, 91, 17, 84, 45, 74, 41, 91, 55, 57, 11, 3, 24, 23, 56, 40, 55, 74, 8, 6, 91, 73, 79, 25, 65, 53, 7, 34, 41, 8, 24, 11, 4, 57, 88, 6, 72, 96, 78, 52, 25, 18, 67, 77, 54, 12, 81, 4, 30, 73, 9, 10, 41, 95, 70, 63, 66, 20, 84, 22, 37, 2, 24, 96, 20, 32, 76, 62, 8, 32, 97, 18, 97, 87, 99, 40, 96, 22, 21, 92, 100, 9, 15, 34, 98, 94, 49, 27, 6, 32, 20, 54, 62, 55, 16]\n",
      "Sorted array:\n",
      "2, 3, 4, 4, 6, 6, 6, 7, 8, 8, 8, 9, 9, 10, 11, 11, 12, 15, 15, 16, 17, 18, 18, 20, 20, 20, 21, 22, 22, 23, 24, 24, 24, 25, 25, 27, 30, 32, 32, 32, 34, 34, 34, 37, 40, 40, 41, 41, 41, 45, 49, 52, 53, 54, 54, 55, 55, 55, 56, 56, 57, 57, 59, 62, 62, 63, 65, 66, 67, 70, 72, 73, 73, 74, 74, 76, 77, 78, 79, 80, 81, 84, 84, 87, 88, 91, 91, 91, 92, 94, 95, 96, 96, 96, 97, 97, 97, 98, 99, 100, \n",
      "Execution Time: 0.00082898 seconds\n",
      "Number of Swaps: 284\n"
     ]
    }
   ],
   "source": [
    "import time\n",
    "import random\n",
    "A = [random.randint(1, 100) for _ in range(100)]\n",
    "print(\"randommly generated array\",A)\n",
    "start_time = time.time()\n",
    "swaps = 0\n",
    "for i in range(len(A)):\n",
    "    min_idx = i\n",
    "    for j in range(i + 1, len(A)):\n",
    "        if A[min_idx] > A[j]:\n",
    "            min_idx = j\n",
    "            swaps += 1\n",
    "\n",
    "    A[i], A[min_idx] = A[min_idx], A[i]\n",
    "\n",
    "end_time = time.time()\n",
    "print(\"Sorted array:\")\n",
    "for i in range(len(A)):\n",
    "    print(\"%d\" % A[i], end=\", \")\n",
    "\n",
    "print(\"\\nExecution Time: %.8f seconds\" % (end_time - start_time))\n",
    "print(\"Number of Swaps: %d\" % swaps)"
   ]
  },
  {
   "cell_type": "code",
   "execution_count": 12,
   "metadata": {},
   "outputs": [
    {
     "name": "stdout",
     "output_type": "stream",
     "text": [
      "Randomly generated array: [56, 9, 12, 30, 51, 10, 72, 85, 67, 28, 11, 58, 8, 6, 79, 80, 54, 11, 22, 39, 3, 95, 45, 77, 36, 41, 76, 24, 22, 14, 89, 36, 82, 74, 71, 12, 66, 45, 31, 75, 56, 65, 100, 35, 2, 24, 29, 31, 11, 79, 38, 94, 47, 100, 28, 9, 89, 36, 3, 87, 60, 64, 55, 2, 57, 69, 81, 92, 19, 9, 31, 45, 73, 70, 7, 68, 57, 8, 18, 22, 69, 76, 32, 92, 63, 72, 15, 37, 88, 16, 60, 22, 54, 13, 98, 40, 71, 1, 42, 78]\n",
      "Sorted array:\n",
      "1, 2, 2, 3, 3, 6, 7, 8, 8, 9, 9, 9, 10, 11, 11, 11, 12, 12, 13, 14, 15, 16, 18, 19, 22, 22, 22, 22, 24, 24, 28, 28, 29, 30, 31, 31, 31, 32, 35, 36, 36, 36, 37, 38, 39, 40, 41, 42, 45, 45, 45, 47, 51, 54, 54, 55, 56, 56, 57, 57, 58, 60, 60, 63, 64, 65, 66, 67, 68, 69, 69, 70, 71, 71, 72, 72, 73, 74, 75, 76, 76, 77, 78, 79, 79, 80, 81, 82, 85, 87, 88, 89, 89, 92, 92, 94, 95, 98, 100, 100, \n",
      "Execution Time: 0.00153399 seconds\n",
      "Number of Swaps: 2333\n"
     ]
    }
   ],
   "source": [
    "import time\n",
    "import random\n",
    "A = [random.randint(1, 100) for _ in range(100)]\n",
    "print(\"Randomly generated array:\", A)\n",
    "start_time = time.time()\n",
    "swaps = 0\n",
    "for i in range(len(A)):\n",
    "    for j in range(0, len(A)-i-1):\n",
    "        if A[j] > A[j+1]:\n",
    "            A[j], A[j+1] = A[j+1], A[j]\n",
    "            swaps += 1\n",
    "end_time = time.time()\n",
    "print(\"Sorted array:\")\n",
    "for i in range(len(A)):\n",
    "    print(\"%d\" % A[i], end=\", \")\n",
    "print(\"\\nExecution Time: %.8f seconds\" % (end_time - start_time))\n",
    "print(\"Number of Swaps: %d\" % swaps)"
   ]
  },
  {
   "cell_type": "code",
   "execution_count": 13,
   "metadata": {},
   "outputs": [
    {
     "name": "stdout",
     "output_type": "stream",
     "text": [
      "[1, 2, 3, 9, 11, 12, 15, 17]\n",
      "\n",
      "Execution Time: 0.00005388 seconds\n"
     ]
    }
   ],
   "source": [
    "A=[1,15,3,9,2,11,17,12]\n",
    "start_time=time.time()\n",
    "A.sort()\n",
    "end_time=time.time()\n",
    "print(A)\n",
    "print(\"\\nExecution Time: %.8f seconds\" % (end_time - start_time))"
   ]
  },
  {
   "cell_type": "code",
   "execution_count": 14,
   "metadata": {},
   "outputs": [
    {
     "name": "stdout",
     "output_type": "stream",
     "text": [
      "Randomly generated array: [1, 2, 3, 9, 11, 12, 15, 17]\n",
      "[1, 2, 3, 5, 7, 7, 8, 8, 9, 10, 11, 11, 12, 15, 16, 17, 17, 20, 21, 21, 21, 24, 24, 27, 27, 27, 27, 28, 28, 29, 31, 33, 34, 34, 35, 36, 37, 37, 37, 39, 40, 40, 41, 42, 43, 43, 44, 47, 47, 48, 48, 48, 48, 50, 51, 51, 52, 52, 52, 52, 52, 52, 52, 54, 54, 55, 58, 58, 59, 59, 62, 64, 64, 64, 65, 66, 67, 71, 71, 73, 73, 73, 74, 74, 76, 77, 77, 77, 78, 80, 81, 82, 83, 83, 84, 88, 90, 97, 97, 100]\n",
      "\n",
      "Execution Time: 0.00005579 seconds\n"
     ]
    }
   ],
   "source": [
    "import random\n",
    "array1= [random.randint(1, 100) for _ in range(100)]\n",
    "print(\"Randomly generated array:\", A)\n",
    "start_time = time.time()\n",
    "array1.sort()\n",
    "end_time = time.time()\n",
    "print(array1)\n",
    "print(\"\\nExecution Time: %.8f seconds\" % (end_time - start_time))"
   ]
  }
 ],
 "metadata": {
  "kernelspec": {
   "display_name": "Python 3",
   "language": "python",
   "name": "python3"
  },
  "language_info": {
   "codemirror_mode": {
    "name": "ipython",
    "version": 3
   },
   "file_extension": ".py",
   "mimetype": "text/x-python",
   "name": "python",
   "nbconvert_exporter": "python",
   "pygments_lexer": "ipython3",
   "version": "3.12.0"
  }
 },
 "nbformat": 4,
 "nbformat_minor": 2
}
